{
 "cells": [
  {
   "cell_type": "markdown",
   "metadata": {
    "colab_type": "text",
    "id": "Dxh_j2XBC5VO"
   },
   "source": [
    "<h1 align=center>An Intro to Python for Applied Machine Learning</a></h1>\n",
    "<h2 align=center>Nadeem & Xin Tong</h2>"
   ]
  },
  {
   "cell_type": "markdown",
   "metadata": {
    "colab_type": "text",
    "id": "w57U-EMdC5VP"
   },
   "source": [
    "## Outline for Today\n",
    "\n",
    "- <font color='blue'>Basic Python</font>:<br>\n",
    "\n",
    "    - <font color='green'>Basic Data Types</font> <br>\n",
    "    - <font color='green'>Data Structures (Lists, Dicts, Tuples)</font><br>\n",
    "    - <font color='green'>Control Flow</font><br>\n",
    "    - <font color='green'>All Things Functional</font><br>\n",
    "    - <font color='green'>Saving/Loading Things</font><br>\n",
    "    - <font color='green'>Classes in Python</font><br>\n",
    "    \n",
    "- <font color='blue'>Numpy Intro</font>:\n",
    "    - <font color='green'>Numpy arrays</font><br>\n",
    "    - <font color='green'>Array math</font><br><br>\n",
    "   \n",
    "- <font color='blue'>Matplotlib intro</font><br>\n",
    "    "
   ]
  },
  {
   "cell_type": "markdown",
   "metadata": {
    "colab_type": "text",
    "id": "AwU_igFrEn0o"
   },
   "source": [
    "## To create a new notebook:\n",
    " - Click File\n",
    " - Click New Python 3 Notebook"
   ]
  },
  {
   "cell_type": "markdown",
   "metadata": {
    "colab_type": "text",
    "id": "zZFX_lB-C5VP"
   },
   "source": [
    "## Python Versions, Packages, and Notebooks\n",
    "\n",
    "There are two major versions of python, Python2 and Python3. Here we will use **Python 3**.\n",
    "\n",
    "You can check your Python version at the command line by running ```python --version.```\n",
    "\n",
    "For scientific computing, we recommend using the [Anaconda](https://docs.continuum.io/anaconda/) distribution. It comes with most of the basic tools you need (numpy, scipy, matplotlib), and even some ML libraries (tensorflow, theano, scikit-learn). You can download Anaconda distribution [here](https://www.continuum.io/downloads)\n",
    "\n",
    "Anaconda also comes with the Jupyter notebook (used here). You can start a notebook from the command line using ```jupyter notebook```"
   ]
  },
  {
   "cell_type": "markdown",
   "metadata": {
    "colab_type": "text",
    "id": "-CjjG4nhbt0A"
   },
   "source": [
    "## If you're already familiar with Python 2\n",
    "Here are some important differences between Python 2 and Python 3 that apply to this tutorial. \n",
    "<br><br>\n",
    "Python 3:\n",
    "- Requires parentheses after print statement\n",
    "- range returns a range instead of a list\n",
    "- reduce function is removed\n",
    "- map, filter return map/filter object, not a list\n",
    "\n",
    "---\n",
    "\n",
    "\n",
    "<br>\n",
    "For the full list of differences, please refer to :\n",
    "https://sebastianraschka.com/Articles/2014_python_2_3_key_diff.html\n",
    "\n",
    "\n",
    "\n",
    "\n"
   ]
  },
  {
   "cell_type": "markdown",
   "metadata": {
    "colab_type": "text",
    "id": "mfRO9klwC5VQ"
   },
   "source": [
    "# Basic Python"
   ]
  },
  {
   "cell_type": "markdown",
   "metadata": {
    "colab_type": "text",
    "id": "cBqAww9NC5VR"
   },
   "source": [
    "For a more in-depth refresher on Python, consult [The Python Tutorial](https://docs.python.org/2/tutorial/index.html)"
   ]
  },
  {
   "cell_type": "markdown",
   "metadata": {
    "colab_type": "text",
    "id": "D1NensvkC5VT"
   },
   "source": [
    "## Data Types"
   ]
  },
  {
   "cell_type": "markdown",
   "metadata": {
    "colab_type": "text",
    "id": "yE9Wu0KOC5VU"
   },
   "source": [
    "### Numbers"
   ]
  },
  {
   "cell_type": "code",
   "execution_count": 0,
   "metadata": {
    "colab": {
     "base_uri": "https://localhost:8080/",
     "height": 35
    },
    "colab_type": "code",
    "id": "FAtTLk5NC5VU",
    "outputId": "85988510-e693-49f1-ad0a-40e9dbf0a896"
   },
   "outputs": [
    {
     "data": {
      "text/plain": [
       "4"
      ]
     },
     "execution_count": 1,
     "metadata": {
      "tags": []
     },
     "output_type": "execute_result"
    }
   ],
   "source": [
    "# This is a comment\n",
    "2+2"
   ]
  },
  {
   "cell_type": "code",
   "execution_count": 0,
   "metadata": {
    "colab": {
     "base_uri": "https://localhost:8080/",
     "height": 52
    },
    "colab_type": "code",
    "id": "UZpMt9zjC5VZ",
    "outputId": "bccd06af-d89c-4b26-a80e-0e1569d2c7b6"
   },
   "outputs": [
    {
     "name": "stdout",
     "output_type": "stream",
     "text": [
      "x, type(x):  2 , <class 'int'>\n",
      "x, type(x):  5.666666666666667 , <class 'float'>\n"
     ]
    }
   ],
   "source": [
    "x = 6//3       # Type does not need to be declared, Python infers it for you\n",
    "print (\"x, type(x): \", x,\",\", type(x) ) # This will give an int\n",
    "\n",
    "x = 17 / 3.0\n",
    "print (\"x, type(x): \", x,\",\", type(x)) # This will give a float"
   ]
  },
  {
   "cell_type": "code",
   "execution_count": 0,
   "metadata": {
    "colab": {
     "base_uri": "https://localhost:8080/",
     "height": 52
    },
    "colab_type": "code",
    "id": "Zq1MKhEIC5Vc",
    "outputId": "befa1c3a-be34-47ac-e0c4-7bcbad572450"
   },
   "outputs": [
    {
     "name": "stdout",
     "output_type": "stream",
     "text": [
      "x+1, x*2, x**2:  4 , 6 , 9\n",
      "x = 4\n"
     ]
    }
   ],
   "source": [
    "x = 3\n",
    "print (\"x+1, x*2, x**2: \", x+1,\",\", x*2,\",\", x**2)\n",
    "x += 1\n",
    "print (\"x =\", x)"
   ]
  },
  {
   "cell_type": "markdown",
   "metadata": {
    "colab_type": "text",
    "id": "-Fd3n8kVtqD0"
   },
   "source": [
    "something to watch out for. The limitations of floating point representations"
   ]
  },
  {
   "cell_type": "code",
   "execution_count": 0,
   "metadata": {
    "colab": {
     "base_uri": "https://localhost:8080/",
     "height": 35
    },
    "colab_type": "code",
    "id": "Q-66NZvNtxKM",
    "outputId": "241d5159-1a67-4d00-8374-c1d9d7bf2020"
   },
   "outputs": [
    {
     "data": {
      "text/plain": [
       "False"
      ]
     },
     "execution_count": 4,
     "metadata": {
      "tags": []
     },
     "output_type": "execute_result"
    }
   ],
   "source": [
    ".1 + .1 +.1 == .3 # because of the way .1 is represented in binary, these are not equal\n",
    "                  # keep this in mind when you are coding"
   ]
  },
  {
   "cell_type": "markdown",
   "metadata": {
    "colab_type": "text",
    "id": "Q9mFNZNgC5Vk"
   },
   "source": [
    "### Booleans"
   ]
  },
  {
   "cell_type": "code",
   "execution_count": 0,
   "metadata": {
    "colab": {
     "base_uri": "https://localhost:8080/",
     "height": 104
    },
    "colab_type": "code",
    "id": "-xoVEGcNC5Vm",
    "outputId": "82c54364-7662-4752-e823-3ae5c4c61f54"
   },
   "outputs": [
    {
     "name": "stdout",
     "output_type": "stream",
     "text": [
      "x and y :  False\n",
      "x or y :  True\n",
      "not x :  False\n",
      "x != y :  True\n",
      "x == y :  False\n"
     ]
    }
   ],
   "source": [
    "x = True\n",
    "y = False\n",
    "\n",
    "print( \"x and y : \", x and y) # logical and\n",
    "print (\"x or y : \", x or y)  # logical or\n",
    "print (\"not x : \", not x)   # logical not\n",
    "print (\"x != y : \", x != y)  # logical xor\n",
    "print (\"x == y : \", x == y )"
   ]
  },
  {
   "cell_type": "markdown",
   "metadata": {
    "colab_type": "text",
    "id": "Wdwv5gIPC5Vq"
   },
   "source": [
    "### Strings"
   ]
  },
  {
   "cell_type": "code",
   "execution_count": 0,
   "metadata": {
    "colab": {
     "base_uri": "https://localhost:8080/",
     "height": 156
    },
    "colab_type": "code",
    "id": "IUvRN2VdC5Vr",
    "outputId": "9a132fe2-9a32-465f-e86c-a4bdefef1719"
   },
   "outputs": [
    {
     "name": "stdout",
     "output_type": "stream",
     "text": [
      "Hello World\n",
      "H\n",
      "Hel\n",
      "lo World\n",
      "Hello World\n",
      "11\n",
      "Hello World 42\n",
      "Hello World 42\n"
     ]
    }
   ],
   "source": [
    "greet = \"Hello World\"\n",
    "print (greet)\n",
    "print (greet[0])\n",
    "print (greet[0:3]) #[inclusive,exclusive]\n",
    "print( greet[3:])\n",
    "print (\"Hello\" + ' ' + 'World')\n",
    "print( len(greet)) # Gives the length of string\n",
    "print (greet + ' ' + str(42))\n",
    "print (greet, 42)"
   ]
  },
  {
   "cell_type": "markdown",
   "metadata": {
    "colab_type": "text",
    "id": "WV3rpw7xC5Vu"
   },
   "source": [
    "Some string methods:"
   ]
  },
  {
   "cell_type": "code",
   "execution_count": 0,
   "metadata": {
    "colab": {
     "base_uri": "https://localhost:8080/",
     "height": 104
    },
    "colab_type": "code",
    "id": "wBWywQM4C5Vw",
    "outputId": "c21fcb07-7411-486e-9dff-bc402bca1759"
   },
   "outputs": [
    {
     "name": "stdout",
     "output_type": "stream",
     "text": [
      "hello world\n",
      "HELLO WORLD\n",
      "Hello World\n",
      "['Hello', 'World']\n",
      "['He', 'o World']\n"
     ]
    }
   ],
   "source": [
    "print (greet.lower()) # Convert string to lowercase\n",
    "print (greet.upper() )# Convert string to uppercase\n",
    "print (greet)         # Note that this does not change the original string\n",
    "print (greet.split()) # split based on space\n",
    "print (greet.split('ll')) # split based on 'll'"
   ]
  },
  {
   "cell_type": "code",
   "execution_count": 0,
   "metadata": {
    "colab": {
     "base_uri": "https://localhost:8080/",
     "height": 166
    },
    "colab_type": "code",
    "id": "eCEh-YSiC5Vz",
    "outputId": "244a3cf0-8ad1-4b71-844d-2ce2d063f358"
   },
   "outputs": [
    {
     "ename": "TypeError",
     "evalue": "ignored",
     "output_type": "error",
     "traceback": [
      "\u001b[0;31m---------------------------------------------------------------------------\u001b[0m",
      "\u001b[0;31mTypeError\u001b[0m                                 Traceback (most recent call last)",
      "\u001b[0;32m<ipython-input-8-d4772745841e>\u001b[0m in \u001b[0;36m<module>\u001b[0;34m()\u001b[0m\n\u001b[0;32m----> 1\u001b[0;31m \u001b[0mgreet\u001b[0m\u001b[0;34m[\u001b[0m\u001b[0;36m0\u001b[0m\u001b[0;34m]\u001b[0m\u001b[0;34m=\u001b[0m\u001b[0;34m'a'\u001b[0m\u001b[0;34m\u001b[0m\u001b[0m\n\u001b[0m",
      "\u001b[0;31mTypeError\u001b[0m: 'str' object does not support item assignment"
     ]
    }
   ],
   "source": [
    "#Strings are immutable\n",
    "greet[0]='a'"
   ]
  },
  {
   "cell_type": "markdown",
   "metadata": {
    "colab_type": "text",
    "id": "jrG7bJLejFZm"
   },
   "source": [
    "#### Useful String functions"
   ]
  },
  {
   "cell_type": "markdown",
   "metadata": {
    "colab_type": "text",
    "id": "6U9CcujUjNZi"
   },
   "source": [
    "The split function"
   ]
  },
  {
   "cell_type": "code",
   "execution_count": 0,
   "metadata": {
    "colab": {
     "base_uri": "https://localhost:8080/",
     "height": 87
    },
    "colab_type": "code",
    "id": "oWwB28q7jMJ7",
    "outputId": "b8361ec0-78bf-4dba-ed91-625d32d98647"
   },
   "outputs": [
    {
     "name": "stdout",
     "output_type": "stream",
     "text": [
      "['blue', 'red', 'green']\n",
      "a: blue\n",
      "b: red\n",
      "c: green\n"
     ]
    }
   ],
   "source": [
    "x = 'blue,red,green'\n",
    "print(x.split(\",\")) #splits data based on input\n",
    "\n",
    "a,b,c = x.split(\",\")\n",
    "print(\"a:\",a)\n",
    "print(\"b:\",b)\n",
    "print(\"c:\",c)"
   ]
  },
  {
   "cell_type": "markdown",
   "metadata": {
    "colab_type": "text",
    "id": "mPOJesNCjQ1u"
   },
   "source": [
    "the join function"
   ]
  },
  {
   "cell_type": "code",
   "execution_count": 0,
   "metadata": {
    "colab": {
     "base_uri": "https://localhost:8080/",
     "height": 35
    },
    "colab_type": "code",
    "id": "8zbb8wzPjYE4",
    "outputId": "df4c582e-6f04-4e4e-ea09-4d9d8c0c1816"
   },
   "outputs": [
    {
     "name": "stdout",
     "output_type": "stream",
     "text": [
      "blue-red-green\n"
     ]
    }
   ],
   "source": [
    "s = \"-\"\n",
    "print (s.join([a,b,c])) # joins different strings together with common criteria"
   ]
  },
  {
   "cell_type": "markdown",
   "metadata": {
    "colab_type": "text",
    "id": "t1EC4vAjC5V3"
   },
   "source": [
    "## Data Structures"
   ]
  },
  {
   "cell_type": "markdown",
   "metadata": {
    "colab_type": "text",
    "id": "E3Ng-kX0C5V4"
   },
   "source": [
    "### Lists"
   ]
  },
  {
   "cell_type": "code",
   "execution_count": 0,
   "metadata": {
    "colab": {
     "base_uri": "https://localhost:8080/",
     "height": 87
    },
    "colab_type": "code",
    "id": "SJCD-rCnC5V4",
    "outputId": "20914f6c-898c-4587-b6ea-ba411f13de29"
   },
   "outputs": [
    {
     "name": "stdout",
     "output_type": "stream",
     "text": [
      "['Hello', True, 42]\n",
      "[<class 'str'>, <class 'bool'>, <class 'int'>]\n",
      "['The', 'quick', 'brown', 'fox', 'jumps', 'over', 'the', 'lazy', 'dog']\n",
      "9\n"
     ]
    }
   ],
   "source": [
    "#Python lists are dynamic typed. They can contain anything\n",
    "arr = [\"Hello\", True, 42]\n",
    "print (arr)\n",
    "print (list(map(lambda x : type(x), arr)))\n",
    "\n",
    "arr = \"The quick brown fox jumps over the lazy dog\".split()\n",
    "print (arr)  # prints the entire list\n",
    "print (len(arr)) # prints length of the list"
   ]
  },
  {
   "cell_type": "code",
   "execution_count": 0,
   "metadata": {
    "colab": {
     "base_uri": "https://localhost:8080/",
     "height": 69
    },
    "colab_type": "code",
    "id": "FcscTNWwC5V8",
    "outputId": "96cde607-95c2-4e11-8683-d8a70c768620"
   },
   "outputs": [
    {
     "name": "stdout",
     "output_type": "stream",
     "text": [
      "The\n",
      "fox\n",
      "dog\n"
     ]
    }
   ],
   "source": [
    "print (arr[0]) # Prints the first elemnt\n",
    "print (arr[3]) # Prints 4th element\n",
    "print (arr[-1])# Prints the last element ( negative indexes are also supported )"
   ]
  },
  {
   "cell_type": "code",
   "execution_count": 0,
   "metadata": {
    "colab": {
     "base_uri": "https://localhost:8080/",
     "height": 87
    },
    "colab_type": "code",
    "id": "AYfKGzwxC5WD",
    "outputId": "092e2108-2d30-4968-a5c1-4be48f22404f"
   },
   "outputs": [
    {
     "name": "stdout",
     "output_type": "stream",
     "text": [
      "['The', 'quick', 'brown', 'fox', 'jumps', 'over', 'the', 'sleeping', 'dog']\n",
      "['Nimble', 'Jack', 'jumps', 'over', 'the', 'sleeping', 'dog']\n",
      "['Nimble', 'Jack', 'jumps', 'over', 'the']\n",
      "['Nimble', 'Jack', 'jumps', 'over', 'the', 'candlestick']\n"
     ]
    }
   ],
   "source": [
    "# Modify elements with simple assignment\n",
    "arr[7] = \"sleeping\"\n",
    "print (arr)\n",
    "\n",
    "# Replacing multiple elements is just as simple\n",
    "arr[0:4] = [\"Nimble\",\"Jack\"]\n",
    "print (arr)\n",
    "\n",
    "# Delete elements with del\n",
    "del arr[-2:]\n",
    "print (arr)\n",
    "\n",
    "# Add elements with .append()\n",
    "arr.append(\"candlestick\")\n",
    "print (arr)"
   ]
  },
  {
   "cell_type": "code",
   "execution_count": 0,
   "metadata": {
    "colab": {
     "base_uri": "https://localhost:8080/",
     "height": 35
    },
    "colab_type": "code",
    "id": "pWd2xUXEC5WH",
    "outputId": "3272c28e-00f9-4bf5-e3ea-19251054d094"
   },
   "outputs": [
    {
     "data": {
      "text/plain": [
       "'Nimble Jack jumps over the candlestick'"
      ]
     },
     "execution_count": 14,
     "metadata": {
      "tags": []
     },
     "output_type": "execute_result"
    }
   ],
   "source": [
    "# Join is used to concatenate a list into a string\n",
    "' '.join(arr)"
   ]
  },
  {
   "cell_type": "markdown",
   "metadata": {
    "colab_type": "text",
    "id": "oPcKWTWdC5WM"
   },
   "source": [
    "#### Slicing"
   ]
  },
  {
   "cell_type": "code",
   "execution_count": 0,
   "metadata": {
    "colab": {
     "base_uri": "https://localhost:8080/",
     "height": 104
    },
    "colab_type": "code",
    "id": "C9YfXRw5C5WN",
    "outputId": "0015ef6e-4563-4f80-84cd-ba8593f8b8d5"
   },
   "outputs": [
    {
     "name": "stdout",
     "output_type": "stream",
     "text": [
      "a =  [8, 6, 7, 5, 3, 0, 9]\n",
      "a[2:5] =  [7, 5, 3]\n",
      "a[:2] =  [8, 6]\n",
      "a[2:] =  [7, 5, 3, 0, 9]\n",
      "a[:-2] = [8, 6, 7, 5, 3]\n"
     ]
    }
   ],
   "source": [
    "#Syntax: [start : end : stride]\n",
    "\n",
    "a = [8,6,7,5,3,0,9]\n",
    "\n",
    "print (\"a = \", a)      \n",
    "print (\"a[2:5] = \", a[2:5])    # Get a slice from index 2 to 5 (exclusive)\n",
    "print (\"a[:2] = \", a[:2] )      # Get a slice from the start to index 2 (exclusive)\n",
    "print (\"a[2:] = \", a[2:] )    # Get a slice from index 2 to the end\n",
    "print (\"a[:-2] =\", a[:-2])      # Slice indices can be negative"
   ]
  },
  {
   "cell_type": "code",
   "execution_count": 0,
   "metadata": {
    "colab": {
     "base_uri": "https://localhost:8080/",
     "height": 87
    },
    "colab_type": "code",
    "id": "Pr8icjLtC5WR",
    "outputId": "dc9e9cea-6adc-4822-8c76-a42731a06700"
   },
   "outputs": [
    {
     "name": "stdout",
     "output_type": "stream",
     "text": [
      "b =  [0, 1, 2, 3, 4, 5, 6, 7, 8, 9, 10, 11, 12, 13, 14, 15]\n",
      "b[0::2] = [0, 2, 4, 6, 8, 10, 12, 14]\n",
      "b[1::2] =  [1, 3, 5, 7, 9, 11, 13, 15]\n",
      "b[::-2] = [15, 13, 11, 9, 7, 5, 3, 1]\n"
     ]
    }
   ],
   "source": [
    "b = list(range(16))     # Range is a built in function that gives a list of n integers\n",
    "print (\"b = \", b)\n",
    "print (\"b[0::2] =\", b[0::2])     # Add a number to the slice to indicate what to count by\n",
    "print (\"b[1::2] = \", b[1::2])\n",
    "print (\"b[::-2] =\", b[::-2])    # Can also count down"
   ]
  },
  {
   "cell_type": "markdown",
   "metadata": {
    "colab_type": "text",
    "id": "XL8TUZjJC5WU"
   },
   "source": [
    "#### List Comprehensions"
   ]
  },
  {
   "cell_type": "code",
   "execution_count": 0,
   "metadata": {
    "colab": {
     "base_uri": "https://localhost:8080/",
     "height": 52
    },
    "colab_type": "code",
    "id": "WU5oawL4C5WU",
    "outputId": "c3046846-96f0-44a0-a8ea-22da8697b179"
   },
   "outputs": [
    {
     "name": "stdout",
     "output_type": "stream",
     "text": [
      "[0, 1, 4, 9, 16, 25, 36, 49, 64, 81]\n",
      "[3, 6, 9, 12, 15, 18]\n"
     ]
    }
   ],
   "source": [
    "a = [i**2 for i in range(10)]\n",
    "print (a)\n",
    "\n",
    "a = [i for i in range(1,20) if i%3 == 0]\n",
    "print (a)\n"
   ]
  },
  {
   "cell_type": "markdown",
   "metadata": {
    "colab_type": "text",
    "id": "OkJ538pnDAnE"
   },
   "source": [
    "#### List iteration"
   ]
  },
  {
   "cell_type": "code",
   "execution_count": 0,
   "metadata": {
    "colab": {
     "base_uri": "https://localhost:8080/",
     "height": 624
    },
    "colab_type": "code",
    "id": "wsH4X0aFC-C0",
    "outputId": "7d53a5a6-a3cd-4f4d-d0c2-4820dcee6e9a"
   },
   "outputs": [
    {
     "name": "stdout",
     "output_type": "stream",
     "text": [
      "Simple for loop:\n",
      "a\n",
      "b\n",
      "c\n",
      "d\n",
      "e\n",
      "f\n",
      "g\n",
      "h\n",
      "i\n",
      "j\n",
      "\n",
      "Java style for loop:\n",
      "0 a\n",
      "1 b\n",
      "2 c\n",
      "3 d\n",
      "4 e\n",
      "5 f\n",
      "6 g\n",
      "7 h\n",
      "8 i\n",
      "9 j\n",
      "\n",
      "Enumeration loop style for loop:\n",
      "0 a\n",
      "1 b\n",
      "2 c\n",
      "3 d\n",
      "4 e\n",
      "5 f\n",
      "6 g\n",
      "7 h\n",
      "8 i\n",
      "9 j\n"
     ]
    }
   ],
   "source": [
    "l = [chr(n) for n in range(97,107)]\n",
    "\n",
    "#For loop (Cannot easily get index of elements)\n",
    "print(\"Simple for loop:\")\n",
    "for num in l:\n",
    "    print (num)\n",
    "    \n",
    "#Java style loop\n",
    "print(\"\\nJava style for loop:\")\n",
    "for i in range(len(l)):\n",
    "    print (i,l[i])\n",
    "    \n",
    "#Enumeration loop\n",
    "print(\"\\nEnumeration loop style for loop:\")\n",
    "for i,num in enumerate(l):\n",
    "    print (i,num)\n"
   ]
  },
  {
   "cell_type": "markdown",
   "metadata": {
    "colab_type": "text",
    "id": "eHRyEpuHC5WX"
   },
   "source": [
    "### Dictionary"
   ]
  },
  {
   "cell_type": "code",
   "execution_count": 0,
   "metadata": {
    "colab": {
     "base_uri": "https://localhost:8080/",
     "height": 104
    },
    "colab_type": "code",
    "id": "cS-QPCWVC5WY",
    "outputId": "18ec5d50-0473-4851-e6ce-29af1e10d678"
   },
   "outputs": [
    {
     "name": "stdout",
     "output_type": "stream",
     "text": [
      "{'Name': 'Harry', 'Age': 11, 'Address': '4 Privet Drive, Little Whinging, Surrey'}\n",
      "Harry\n",
      "{'Name': 'Harry', 'Age': 11, 'Address': 'Hogwarts'}\n",
      "{'Name': 'Harry', 'Age': 11, 'Address': 'Hogwarts', 'Godfather': 'Sirius'}\n",
      "{'Name': 'Harry', 'Age': 11, 'Address': 'Hogwarts'}\n"
     ]
    }
   ],
   "source": [
    "d = {\"Name\":\"Harry\", \"Age\":11, \"Address\":\"4 Privet Drive, Little Whinging, Surrey\"}\n",
    "print (d)\n",
    "\n",
    "# get value based on key\n",
    "print (d[\"Name\"] )\n",
    "\n",
    "# change an existing value \n",
    "d[\"Address\"] = 'Hogwarts' \n",
    "print (d)\n",
    "\n",
    "# insert new element\n",
    "d[\"Godfather\"] = \"Sirius\" \n",
    "print (d)\n",
    "\n",
    "# delete a key-value pair\n",
    "del d[\"Godfather\"] \n",
    "print (d)"
   ]
  },
  {
   "cell_type": "code",
   "execution_count": 0,
   "metadata": {
    "colab": {
     "base_uri": "https://localhost:8080/",
     "height": 121
    },
    "colab_type": "code",
    "id": "OwKgtLHMC5Wb",
    "outputId": "0e6d1991-f6b4-4d59-b06e-c6d084ed3bf4"
   },
   "outputs": [
    {
     "name": "stdout",
     "output_type": "stream",
     "text": [
      "Name : Harry\n",
      "Age : 11\n",
      "Address : Hogwarts\n",
      "Name Harry\n",
      "Age 11\n",
      "Address Hogwarts\n"
     ]
    }
   ],
   "source": [
    "# Iterating over dictionary keys\n",
    "for key in d:\n",
    "    print( key, \":\", d[key])\n",
    "    \n",
    "for key,value in d.items():    #this was previously d.iteritems() in python2\n",
    "    print (key,value)"
   ]
  },
  {
   "cell_type": "markdown",
   "metadata": {
    "colab_type": "text",
    "id": "0HiEcQkgC5Wd"
   },
   "source": [
    "### Tuples"
   ]
  },
  {
   "cell_type": "code",
   "execution_count": 0,
   "metadata": {
    "colab": {
     "base_uri": "https://localhost:8080/",
     "height": 235
    },
    "colab_type": "code",
    "id": "D9cBN2HOC5We",
    "outputId": "ea00f38b-a7db-40e2-f4c7-b440f135dcaa"
   },
   "outputs": [
    {
     "name": "stdout",
     "output_type": "stream",
     "text": [
      "(12345, 54321, 'hello!')\n",
      "hello!\n"
     ]
    },
    {
     "ename": "TypeError",
     "evalue": "ignored",
     "output_type": "error",
     "traceback": [
      "\u001b[0;31m---------------------------------------------------------------------------\u001b[0m",
      "\u001b[0;31mTypeError\u001b[0m                                 Traceback (most recent call last)",
      "\u001b[0;32m<ipython-input-22-06d584a6d071>\u001b[0m in \u001b[0;36m<module>\u001b[0;34m()\u001b[0m\n\u001b[1;32m      4\u001b[0m \u001b[0;34m\u001b[0m\u001b[0m\n\u001b[1;32m      5\u001b[0m \u001b[0;31m# Unlike lists, tuples are immutable\u001b[0m\u001b[0;34m\u001b[0m\u001b[0;34m\u001b[0m\u001b[0m\n\u001b[0;32m----> 6\u001b[0;31m \u001b[0mt\u001b[0m\u001b[0;34m[\u001b[0m\u001b[0;36m0\u001b[0m\u001b[0;34m]\u001b[0m \u001b[0;34m=\u001b[0m \u001b[0;36m42\u001b[0m\u001b[0;34m\u001b[0m\u001b[0m\n\u001b[0m",
      "\u001b[0;31mTypeError\u001b[0m: 'tuple' object does not support item assignment"
     ]
    }
   ],
   "source": [
    "# Like lists, tuples are ordered collections of objects with varying data types\n",
    "t = (12345, 54321, 'hello!')\n",
    "print (t)\n",
    "print (t[2])\n",
    "\n",
    "# Unlike lists, tuples are immutable\n",
    "t[0] = 42"
   ]
  },
  {
   "cell_type": "markdown",
   "metadata": {
    "colab_type": "text",
    "id": "jy33OnpgC5Wi"
   },
   "source": [
    "## Control Flow"
   ]
  },
  {
   "cell_type": "markdown",
   "metadata": {
    "colab_type": "text",
    "id": "iUzecZb9C5Wj"
   },
   "source": [
    "### if, elif, else"
   ]
  },
  {
   "cell_type": "code",
   "execution_count": 0,
   "metadata": {
    "colab": {
     "base_uri": "https://localhost:8080/",
     "height": 35
    },
    "colab_type": "code",
    "id": "oEftIalPC5Wk",
    "outputId": "03609292-18bc-4d56-bbba-223cbf8df3fe"
   },
   "outputs": [
    {
     "name": "stdout",
     "output_type": "stream",
     "text": [
      "I do not like green eggs and ham\n"
     ]
    }
   ],
   "source": [
    "#if statement, python is all about indentations!\n",
    "x=3\n",
    "if x>0:\n",
    "    print (\"I do not like green eggs and ham\")\n",
    "elif x == 0 : \n",
    "    print (\"I do not like them\")\n",
    "else: #x<=0\n",
    "    print (\"Sam-I-am\")"
   ]
  },
  {
   "cell_type": "markdown",
   "metadata": {
    "colab_type": "text",
    "id": "pKXLwg5HC5Wm"
   },
   "source": [
    "#### Loops"
   ]
  },
  {
   "cell_type": "code",
   "execution_count": 0,
   "metadata": {
    "colab": {
     "base_uri": "https://localhost:8080/",
     "height": 139
    },
    "colab_type": "code",
    "id": "bFHqsHH6C5Wm",
    "outputId": "2d9c5d67-f819-4840-a37b-8999af9a40b7"
   },
   "outputs": [
    {
     "name": "stdout",
     "output_type": "stream",
     "text": [
      "[1, 2, 3, 4, 5]\n",
      "[1, 2, 3, 4, 5, 0, 0, 0, 0, 0]\n",
      "3\n",
      "4\n",
      "5\n",
      "[1, 2, 3, 4, 5, 0, 0, 0, 0, 0]\n",
      "[6, 7, 8, 9, 10, 5, 5, 5, 5, 5]\n"
     ]
    }
   ],
   "source": [
    "a = list(range(1,6))\n",
    "print (a)\n",
    "\n",
    "# While loops continue until condition is false\n",
    "while len(a) < 10:\n",
    "    a.append(0)\n",
    "print (a)\n",
    "\n",
    "for element in a:\n",
    "    if element >= 3:\n",
    "        print (element)\n",
    "    element = 5\n",
    "print (a)\n",
    "\n",
    "# Alternatively, loop through indices\n",
    "for i in range(len(a)):\n",
    "    a[i] += 5\n",
    "print (a)"
   ]
  },
  {
   "cell_type": "markdown",
   "metadata": {
    "colab_type": "text",
    "id": "zAd_wOcHC5Wp"
   },
   "source": [
    "## Functions"
   ]
  },
  {
   "cell_type": "code",
   "execution_count": 0,
   "metadata": {
    "colab": {
     "base_uri": "https://localhost:8080/",
     "height": 136
    },
    "colab_type": "code",
    "id": "G1_7cBFQC5Wp",
    "outputId": "630df362-10d8-495b-fe4e-8a9fd42f0e51"
   },
   "outputs": [
    {
     "name": "stdout",
     "output_type": "stream",
     "text": [
      "func(5) =  10\n",
      "func('string') =  stringstring\n",
      "e^4 = 54.59815003314423\n",
      "2^4 = 16\n",
      "{'Name': 'Harry', 'Age': 11, 'Address': 'Hogwarts'}\n",
      "d after add_key:  {'Name': 'Harry', 'Age': 11, 'Address': 'Hogwarts', 'occupation': 'Wizard'}\n",
      "occupation\n"
     ]
    }
   ],
   "source": [
    "#You can define your own functions:\n",
    "def func(x):\n",
    "    return x*2\n",
    "\n",
    "#The type is inferred by Python\n",
    "print (\"func(5) = \", func(5))\n",
    "\n",
    "#Python also makes your functions polymorphic whenever it can\n",
    "print (\"func('string') = \", func('string'))\n",
    "\n",
    "# Functions can have default parameters\n",
    "import math\n",
    "def exp(exponent, base=math.e):\n",
    "    return base ** exponent\n",
    "\n",
    "print (\"e^4 =\", exp(4))\n",
    "print (\"2^4 =\", exp(4,2))\n",
    "\n",
    "\n",
    "\n",
    "\n",
    "\n",
    "# Parameters are passed by reference\n",
    "def add_key(db, x, y):\n",
    "    db[x] = y\n",
    "    x = 5\n",
    "    \n",
    "\n",
    "d = {'Name': 'Harry', 'Age': 11, 'Address': 'Hogwarts'}\n",
    "\n",
    "print (d)\n",
    "g = \"occupation\"\n",
    "add_key(d, g, \"Wizard\")\n",
    "print( \"d after add_key: \", d)\n",
    "print (g)"
   ]
  },
  {
   "cell_type": "markdown",
   "metadata": {
    "colab_type": "text",
    "id": "5yDYo650C5Wu"
   },
   "source": [
    "A slightly more complicated example"
   ]
  },
  {
   "cell_type": "code",
   "execution_count": 0,
   "metadata": {
    "colab": {
     "base_uri": "https://localhost:8080/",
     "height": 35
    },
    "colab_type": "code",
    "id": "v5S2QPfOC5Wv",
    "outputId": "d2154c1f-a8ce-4351-9e6b-4bec88cdd48b"
   },
   "outputs": [
    {
     "name": "stdout",
     "output_type": "stream",
     "text": [
      "quicksort([3,6,8,10,1,2,1,4,7]) =  [1, 1, 2, 3, 4, 6, 7, 8, 10]\n"
     ]
    }
   ],
   "source": [
    "from random import randint\n",
    "\n",
    "# a function which implements quicksort\n",
    "def quicksort(arr):\n",
    "    if len(arr) <= 1:\n",
    "        return arr\n",
    "    pivot = arr[randint(0,len(arr)-1)]\n",
    "    left = [x for x in arr if x < pivot]\n",
    "    middle = [x for x in arr if x == pivot]\n",
    "    right = [x for x in arr if x > pivot]\n",
    "    return quicksort(left) + middle + quicksort(right)\n",
    "\n",
    "print (\"quicksort([3,6,8,10,1,2,1,4,7]) = \", quicksort([3,6,8,10,1,2,1,4,7]))"
   ]
  },
  {
   "cell_type": "code",
   "execution_count": 0,
   "metadata": {
    "colab": {
     "base_uri": "https://localhost:8080/",
     "height": 69
    },
    "colab_type": "code",
    "id": "byJ2Xl9MC5Wy",
    "outputId": "4f6f0ff4-a3ed-44cf-937f-07d9ac9815fd"
   },
   "outputs": [
    {
     "name": "stdout",
     "output_type": "stream",
     "text": [
      "cube(3) :  27\n",
      "even(7) :  False\n",
      "add(3,7) :  10\n"
     ]
    }
   ],
   "source": [
    "# Lambdas are one-liner functions\n",
    "# lambda input : output\n",
    "cube = lambda x : x**3 \n",
    "print (\"cube(3) : \", cube(3))\n",
    "\n",
    "even = lambda x : x%2 == 0 \n",
    "print (\"even(7) : \", even(7))\n",
    "\n",
    "add = lambda x,y : x + y \n",
    "print (\"add(3,7) : \", add(3,7))"
   ]
  },
  {
   "cell_type": "markdown",
   "metadata": {
    "colab_type": "text",
    "id": "0VH8GKpOC5W4"
   },
   "source": [
    "### Map and Filter"
   ]
  },
  {
   "cell_type": "code",
   "execution_count": 0,
   "metadata": {
    "colab": {
     "base_uri": "https://localhost:8080/",
     "height": 87
    },
    "colab_type": "code",
    "id": "p0BQVsMnC5W5",
    "outputId": "0bbafe3d-1ae9-4626-97c6-bec629a1181e"
   },
   "outputs": [
    {
     "name": "stdout",
     "output_type": "stream",
     "text": [
      "arr =  [1, 2, 3, 4, 5, 6, 7, 8, 9, 10]\n",
      "map(cube, arr) :  [1, 8, 27, 64, 125, 216, 343, 512, 729, 1000]\n",
      "map(add, arr, arr[::-1]) :  [11, 11, 11, 11, 11, 11, 11, 11, 11, 11]\n",
      "filter(even, arr) :  [2, 4, 6, 8, 10]\n"
     ]
    }
   ],
   "source": [
    "arr = [1,2,3,4,5,6,7,8,9,10]\n",
    "print (\"arr = \", arr)\n",
    "\n",
    "# map() applies a function to each element in one or more lists\n",
    "print (\"map(cube, arr) : \", list(map(cube, arr)))\n",
    "print (\"map(add, arr, arr[::-1]) : \", list(map(add, arr, arr[::-1])))\n",
    "\n",
    "# filter() removes elements from a list given some criteria\n",
    "print (\"filter(even, arr) : \", list(filter(even, arr)))"
   ]
  },
  {
   "cell_type": "markdown",
   "metadata": {
    "colab_type": "text",
    "id": "mPGl_pBzC5XB"
   },
   "source": [
    "## Saving and loading things\n",
    "\n",
    "You can use pickle package to dump objects as such to the system for re-using them later."
   ]
  },
  {
   "cell_type": "code",
   "execution_count": 0,
   "metadata": {
    "colab": {
     "base_uri": "https://localhost:8080/",
     "height": 104
    },
    "colab_type": "code",
    "id": "5A_CxNE9C5XC",
    "outputId": "6eb79b81-d9e8-493e-d217-37ad22d110fc"
   },
   "outputs": [
    {
     "name": "stdout",
     "output_type": "stream",
     "text": [
      "99 bottles of beer on the wall, 99 bottles of beer...\n",
      "Take one down, pass it around, 98 bottles of beer on the wall!\n",
      "\n",
      "98 bottles of beer on the wall, 98 bottles of beer...\n",
      "Take one down, pass it around, 97 bottles of beer on the wall!\n"
     ]
    }
   ],
   "source": [
    "with open('bottles.txt','w') as fout:\n",
    "    for i in range(99):\n",
    "        n = 99\n",
    "        while n > 0:\n",
    "            fout.write('%d bottles of beer on the wall, %d bottles of beer...\\n'%(n,n))\n",
    "            n -= 1\n",
    "            fout.write('Take one down, pass it around, %d bottles of beer on the wall!\\n\\n'%n)\n",
    "        fout.write('No more bottles of beer on the wall, no more bottles of beer...\\n')\n",
    "        fout.write('Go to the store and buy some more, 99 bottles of beer on the wall!\\n')\n",
    "\n",
    "fin = open('test.txt','w')\n",
    "fin.write(\"sjkdhbfkjshdbf\")\n",
    "fin.close()\n",
    "        \n",
    "with open('bottles.txt','r') as fin:\n",
    "    for i in range(5):\n",
    "        print (next(fin).strip())\n",
    "        "
   ]
  },
  {
   "cell_type": "code",
   "execution_count": 0,
   "metadata": {
    "colab": {
     "base_uri": "https://localhost:8080/",
     "height": 35
    },
    "colab_type": "code",
    "id": "W4VtDLUjC5XE",
    "outputId": "3ead0b99-412a-441b-ef93-635ad5303c6e"
   },
   "outputs": [
    {
     "data": {
      "text/plain": [
       "True"
      ]
     },
     "execution_count": 30,
     "metadata": {
      "tags": []
     },
     "output_type": "execute_result"
    }
   ],
   "source": [
    "d = {\"Name\":\"Harry\", \"Age\":11, \"Address\":\"4 Privet Drive, Little Whinging, Surrey\"}\n",
    "\n",
    "import pickle\n",
    "# saving objects\n",
    "pickle.dump(d, open('db_save_file.pkl',\"wb\")) # \"wb\" denotes write binary mode\n",
    "\n",
    "# loading objects\n",
    "stored_dict = pickle.load(open('db_save_file.pkl',\"rb\")) # \"rb\" denotes read binary mode\n",
    "\n",
    "d == stored_dict"
   ]
  },
  {
   "cell_type": "markdown",
   "metadata": {
    "colab_type": "text",
    "id": "mNGj0H8j17N3"
   },
   "source": [
    "you can read more about opening files in python: https://www.pythonforbeginners.com/cheatsheet/python-file-handling\n",
    "\n",
    "and about pickle:\n",
    "https://docs.python.org/3/library/pickle.html"
   ]
  },
  {
   "cell_type": "markdown",
   "metadata": {
    "colab_type": "text",
    "id": "gJfks7prC5XH"
   },
   "source": [
    "## Classes "
   ]
  },
  {
   "cell_type": "markdown",
   "metadata": {
    "colab_type": "text",
    "id": "r4TWtMF-C5XI"
   },
   "source": [
    "Using Python's Object Oriented features will greatly simplify the implementations you have to do in this course."
   ]
  },
  {
   "cell_type": "code",
   "execution_count": 0,
   "metadata": {
    "colab": {
     "base_uri": "https://localhost:8080/",
     "height": 537
    },
    "colab_type": "code",
    "id": "EqQCThJ7C5XJ",
    "outputId": "e3ebabbe-8458-4df0-fd12-0fb38429f334"
   },
   "outputs": [
    {
     "name": "stdout",
     "output_type": "stream",
     "text": [
      "Help on class MyClass in module __main__:\n",
      "\n",
      "class MyClass(builtins.object)\n",
      " |  A simple example class\n",
      " |  \n",
      " |  Methods defined here:\n",
      " |  \n",
      " |  __init__(self, y)\n",
      " |      Create a new MyClass object\n",
      " |  \n",
      " |  multiply(self)\n",
      " |      Give some information.\n",
      " |  \n",
      " |  swapAndSet(self, z)\n",
      " |      Change some information\n",
      " |  \n",
      " |  ----------------------------------------------------------------------\n",
      " |  Data descriptors defined here:\n",
      " |  \n",
      " |  __dict__\n",
      " |      dictionary for instance variables (if defined)\n",
      " |  \n",
      " |  __weakref__\n",
      " |      list of weak references to the object (if defined)\n",
      " |  \n",
      " |  ----------------------------------------------------------------------\n",
      " |  Data and other attributes defined here:\n",
      " |  \n",
      " |  x = 7\n",
      "\n"
     ]
    }
   ],
   "source": [
    "class MyClass:\n",
    "    \"\"\"A simple example class\"\"\"\n",
    "    x = 7\n",
    "        \n",
    "    def __init__(self, y):\n",
    "        \"\"\" Create a new MyClass object \"\"\"\n",
    "        self.y = y\n",
    "        \n",
    "    def multiply(self):\n",
    "        \"\"\" Give some information.  \"\"\"\n",
    "        # class methods must take \"self\" as an argument \n",
    "        # in order to access member variables and methods\n",
    "        return self.x * self.y\n",
    "\n",
    "    def swapAndSet(self, z):\n",
    "        \"\"\" Change some information \"\"\"\n",
    "        self.x, self.y = self.y, z\n",
    "    \n",
    "help(MyClass)"
   ]
  },
  {
   "cell_type": "code",
   "execution_count": 0,
   "metadata": {
    "colab": {
     "base_uri": "https://localhost:8080/",
     "height": 69
    },
    "colab_type": "code",
    "id": "uiAs8hDsC5XN",
    "outputId": "15d32010-5fbd-4c2a-e220-abab2d727223"
   },
   "outputs": [
    {
     "name": "stdout",
     "output_type": "stream",
     "text": [
      "obj.f() =  91\n",
      "obj.x, obj.y =  7 , 13\n",
      "obj.x, obj.y =  13 , 5\n"
     ]
    }
   ],
   "source": [
    "obj = MyClass(13)\n",
    "print (\"obj.f() = \", obj.multiply())\n",
    "\n",
    "print (\"obj.x, obj.y = \", obj.x,\",\", obj.y)\n",
    "obj.swapAndSet(5)\n",
    "print (\"obj.x, obj.y = \", obj.x,\",\", obj.y)\n"
   ]
  },
  {
   "cell_type": "code",
   "execution_count": 0,
   "metadata": {
    "colab": {},
    "colab_type": "code",
    "id": "iftDiYFEC5XR"
   },
   "outputs": [],
   "source": [
    "class Complex:\n",
    "    \"\"\" complex(real[, imag]) -> complex number\n",
    "        Create a complex number from a real part and an optional imaginary part.\n",
    "        This is equivalent to (real + imag*1j) where imag defaults to 0.\n",
    "    \"\"\"\n",
    "    def __init__(self, real, imag=0): #constructor \n",
    "        self.real = real\n",
    "        self.imag = imag\n",
    "        \n",
    "    def add(self, other):\n",
    "        self.real += other.real\n",
    "        self.imag += other.imag\n",
    "    \n",
    "    def __str__(self):\n",
    "        \"\"\" x.__str__() <=> str(x) \"\"\"\n",
    "        return \"%.3f + %.3fj\"%(self.real, self.imag)"
   ]
  },
  {
   "cell_type": "code",
   "execution_count": 0,
   "metadata": {
    "colab": {
     "base_uri": "https://localhost:8080/",
     "height": 69
    },
    "colab_type": "code",
    "id": "K2r5BXVnC5XT",
    "outputId": "f7c64685-1e0f-47a3-e357-23fbe1d9d3e6"
   },
   "outputs": [
    {
     "name": "stdout",
     "output_type": "stream",
     "text": [
      "a =  3.000 + -4.500j\n",
      "b =  -2.000 + 2.300j\n",
      "a =  1.000 + -2.200j\n"
     ]
    }
   ],
   "source": [
    "a = Complex(3.0,-4.5)\n",
    "b = Complex(-2, 2.3)\n",
    "print (\"a = \", a) # __str__ method is automatically called when we print an object\n",
    "print (\"b = \", b)\n",
    "a.add(b)\n",
    "print (\"a = \", a)"
   ]
  },
  {
   "cell_type": "markdown",
   "metadata": {
    "colab_type": "text",
    "id": "6Xk9521DC5XX"
   },
   "source": [
    "# Numpy\n",
    "\n",
    "Numpy is a Python library which provides matrix manipulation capabilities and other standard numerical algorithms. Numpy and smart vectorization is the key to fast scientific computing in Python.\n",
    "\n",
    "Let's import numpy first:"
   ]
  },
  {
   "cell_type": "code",
   "execution_count": 0,
   "metadata": {
    "colab": {},
    "colab_type": "code",
    "id": "ieK5f5sZC5XY"
   },
   "outputs": [],
   "source": [
    "import numpy as np"
   ]
  },
  {
   "cell_type": "markdown",
   "metadata": {
    "colab_type": "text",
    "id": "-ImTh5xaC5Xa"
   },
   "source": [
    "## Arrays"
   ]
  },
  {
   "cell_type": "markdown",
   "metadata": {
    "colab_type": "text",
    "id": "20uVHI9sC5Xb"
   },
   "source": [
    "You can create arrays from lists: "
   ]
  },
  {
   "cell_type": "code",
   "execution_count": 0,
   "metadata": {
    "colab": {
     "base_uri": "https://localhost:8080/",
     "height": 52
    },
    "colab_type": "code",
    "id": "cDzsaArrC5Xb",
    "outputId": "a5614769-346a-45bc-a925-ac9a4e99cbe4"
   },
   "outputs": [
    {
     "name": "stdout",
     "output_type": "stream",
     "text": [
      "[1 2 3 4]\n",
      "(4,)\n"
     ]
    }
   ],
   "source": [
    "x = np.array([1,2,3,4])\n",
    "print(x)\n",
    "print(x.shape)"
   ]
  },
  {
   "cell_type": "markdown",
   "metadata": {
    "colab_type": "text",
    "id": "PY6MlJEiC5Xf"
   },
   "source": [
    "Similarly, you can define a numpy matrix as:"
   ]
  },
  {
   "cell_type": "code",
   "execution_count": 0,
   "metadata": {
    "colab": {
     "base_uri": "https://localhost:8080/",
     "height": 69
    },
    "colab_type": "code",
    "id": "k_6DDa3YC5Xg",
    "outputId": "b0db3a85-0164-4287-fd22-922657b46a84"
   },
   "outputs": [
    {
     "name": "stdout",
     "output_type": "stream",
     "text": [
      "[[1 2 3]\n",
      " [4 5 6]]\n",
      "(2, 3)\n"
     ]
    }
   ],
   "source": [
    "X = np.array([[1,2,3], [4,5,6]])\n",
    "print(X)\n",
    "print(X.shape)"
   ]
  },
  {
   "cell_type": "code",
   "execution_count": 0,
   "metadata": {
    "colab": {
     "base_uri": "https://localhost:8080/",
     "height": 69
    },
    "colab_type": "code",
    "id": "WD6cT1OaC5Xk",
    "outputId": "2d747e5d-2f66-45c3-df67-59834988346f"
   },
   "outputs": [
    {
     "name": "stdout",
     "output_type": "stream",
     "text": [
      "[[1. 0. 0.]\n",
      " [0. 1. 0.]\n",
      " [0. 0. 1.]]\n"
     ]
    }
   ],
   "source": [
    "X = np.eye(3)  # Create an array of all zeros\n",
    "print (X)"
   ]
  },
  {
   "cell_type": "code",
   "execution_count": 0,
   "metadata": {
    "colab": {
     "base_uri": "https://localhost:8080/",
     "height": 87
    },
    "colab_type": "code",
    "id": "kxnzrdsLC5Xo",
    "outputId": "b3af58ac-00b9-4ae9-fc93-5f82ee0488e4"
   },
   "outputs": [
    {
     "name": "stdout",
     "output_type": "stream",
     "text": [
      "[[0.26305466 0.92536418 0.37136004 0.92754087]\n",
      " [0.23585864 0.67664749 0.6341681  0.12044807]\n",
      " [0.1306927  0.79853692 0.84535219 0.12411808]\n",
      " [0.07356363 0.96289185 0.35298067 0.69738409]]\n"
     ]
    }
   ],
   "source": [
    "X = np.random.random((4,4)) # Create an array filled with random values\n",
    "print (X)"
   ]
  },
  {
   "cell_type": "markdown",
   "metadata": {
    "colab_type": "text",
    "id": "N3SKXmQ4C5Xq"
   },
   "source": [
    "### Indexing \n",
    "\n",
    "Similar to that of lists. Selecting all rows except the first and select all columns:"
   ]
  },
  {
   "cell_type": "code",
   "execution_count": 0,
   "metadata": {
    "colab": {
     "base_uri": "https://localhost:8080/",
     "height": 35
    },
    "colab_type": "code",
    "id": "QJ1s1SP7C5Xr",
    "outputId": "0c0135d0-c0ac-443d-a9d8-ae22b00c272e"
   },
   "outputs": [
    {
     "data": {
      "text/plain": [
       "0.26305465687585994"
      ]
     },
     "execution_count": 40,
     "metadata": {
      "tags": []
     },
     "output_type": "execute_result"
    }
   ],
   "source": [
    "#accessing an element; Matrix[column,row]\n",
    "X[0,0]"
   ]
  },
  {
   "cell_type": "code",
   "execution_count": 0,
   "metadata": {
    "colab": {
     "base_uri": "https://localhost:8080/",
     "height": 35
    },
    "colab_type": "code",
    "id": "0cLZlVPRC5Xu",
    "outputId": "8cdb76f7-cb61-4839-e6ba-4a7e00bf9cd1"
   },
   "outputs": [
    {
     "data": {
      "text/plain": [
       "array([0.26305466, 0.92536418, 0.37136004, 0.92754087])"
      ]
     },
     "execution_count": 41,
     "metadata": {
      "tags": []
     },
     "output_type": "execute_result"
    }
   ],
   "source": [
    "#selecting the first row\n",
    "X[0,:]"
   ]
  },
  {
   "cell_type": "code",
   "execution_count": 0,
   "metadata": {
    "colab": {
     "base_uri": "https://localhost:8080/",
     "height": 69
    },
    "colab_type": "code",
    "id": "vCk-zRuIC5Xx",
    "outputId": "b33ccc5c-f192-4dad-cf53-bd30b68a72cc"
   },
   "outputs": [
    {
     "data": {
      "text/plain": [
       "array([[0.23585864, 0.67664749, 0.6341681 , 0.12044807],\n",
       "       [0.1306927 , 0.79853692, 0.84535219, 0.12411808],\n",
       "       [0.07356363, 0.96289185, 0.35298067, 0.69738409]])"
      ]
     },
     "execution_count": 42,
     "metadata": {
      "tags": []
     },
     "output_type": "execute_result"
    }
   ],
   "source": [
    "#Selecting all rows except the first and select all columns:\n",
    "X[1:,:]"
   ]
  },
  {
   "cell_type": "code",
   "execution_count": 0,
   "metadata": {
    "colab": {
     "base_uri": "https://localhost:8080/",
     "height": 87
    },
    "colab_type": "code",
    "id": "xl_-CbxjC5X0",
    "outputId": "41cb0e00-f50c-4247-d006-28ca61700eb3"
   },
   "outputs": [
    {
     "data": {
      "text/plain": [
       "array([[0.26305466, 0.37136004],\n",
       "       [0.23585864, 0.6341681 ],\n",
       "       [0.1306927 , 0.84535219],\n",
       "       [0.07356363, 0.35298067]])"
      ]
     },
     "execution_count": 43,
     "metadata": {
      "tags": []
     },
     "output_type": "execute_result"
    }
   ],
   "source": [
    "#select columns 0 and 2\n",
    "X[:,[0,2]]"
   ]
  },
  {
   "cell_type": "markdown",
   "metadata": {
    "colab_type": "text",
    "id": "42v6Zla8C5X2"
   },
   "source": [
    "You can also index through boolean formulas:"
   ]
  },
  {
   "cell_type": "code",
   "execution_count": 0,
   "metadata": {
    "colab": {
     "base_uri": "https://localhost:8080/",
     "height": 87
    },
    "colab_type": "code",
    "id": "YdGLA2nrC5X2",
    "outputId": "0fa22327-34a6-4281-ebf5-6a51dd59af71"
   },
   "outputs": [
    {
     "data": {
      "text/plain": [
       "array([[ True, False,  True, False],\n",
       "       [ True, False, False,  True],\n",
       "       [ True, False, False,  True],\n",
       "       [ True, False,  True, False]])"
      ]
     },
     "execution_count": 44,
     "metadata": {
      "tags": []
     },
     "output_type": "execute_result"
    }
   ],
   "source": [
    "X < 0.5 #creates a boolean array"
   ]
  },
  {
   "cell_type": "code",
   "execution_count": 0,
   "metadata": {
    "colab": {
     "base_uri": "https://localhost:8080/",
     "height": 52
    },
    "colab_type": "code",
    "id": "ZWPNK14NC5X5",
    "outputId": "bccd5738-1111-43c1-e014-4ddabd8cba47"
   },
   "outputs": [
    {
     "data": {
      "text/plain": [
       "array([0.26305466, 0.37136004, 0.23585864, 0.12044807, 0.1306927 ,\n",
       "       0.12411808, 0.07356363, 0.35298067])"
      ]
     },
     "execution_count": 45,
     "metadata": {
      "tags": []
     },
     "output_type": "execute_result"
    }
   ],
   "source": [
    "X[X < 0.5] #select all elements that are less than 0.5"
   ]
  },
  {
   "cell_type": "markdown",
   "metadata": {
    "colab_type": "text",
    "id": "Gl9tevcDC5X9"
   },
   "source": [
    "### Array Math"
   ]
  },
  {
   "cell_type": "code",
   "execution_count": 0,
   "metadata": {
    "colab": {
     "base_uri": "https://localhost:8080/",
     "height": 121
    },
    "colab_type": "code",
    "id": "9BVK3OY5C5X-",
    "outputId": "505455da-2f9e-4215-d80d-ac3b7f0d491d"
   },
   "outputs": [
    {
     "name": "stdout",
     "output_type": "stream",
     "text": [
      "x + y = \n",
      " [[ 6.  8.]\n",
      " [10. 12.]]\n",
      "np.add(x, y) = \n",
      " [[ 6.  8.]\n",
      " [10. 12.]]\n"
     ]
    }
   ],
   "source": [
    "x = np.array([[1,2],[3,4]], dtype=np.float64)\n",
    "y = np.array([[5,6],[7,8]], dtype=np.float64)\n",
    "\n",
    "# Elementwise sum; both produce the array\n",
    "print (\"x + y = \\n\", x + y)\n",
    "print (\"np.add(x, y) = \\n\", np.add(x, y))"
   ]
  },
  {
   "cell_type": "markdown",
   "metadata": {
    "colab_type": "text",
    "id": "wX2h6RqTC5YC"
   },
   "source": [
    "Use the dot function to compute inner products of vectors, to multiply a vector by a matrix, and to multiply matrices."
   ]
  },
  {
   "cell_type": "code",
   "execution_count": 0,
   "metadata": {
    "colab": {
     "base_uri": "https://localhost:8080/",
     "height": 121
    },
    "colab_type": "code",
    "id": "JW_6VkUzC5YC",
    "outputId": "92416c34-3973-4346-a8d7-eaa105fd7909"
   },
   "outputs": [
    {
     "name": "stdout",
     "output_type": "stream",
     "text": [
      "x.dot(y) = \n",
      " [[19. 22.]\n",
      " [43. 50.]]\n",
      "np.dot(x,y) = \n",
      " [[19. 22.]\n",
      " [43. 50.]]\n"
     ]
    }
   ],
   "source": [
    "print (\"x.dot(y) = \\n\", x.dot(y))\n",
    "print (\"np.dot(x,y) = \\n\", np.dot(x, y))"
   ]
  },
  {
   "cell_type": "markdown",
   "metadata": {
    "colab_type": "text",
    "id": "EJSw9EncC5YE"
   },
   "source": [
    "Of course, dimensions must match"
   ]
  },
  {
   "cell_type": "code",
   "execution_count": 0,
   "metadata": {
    "colab": {
     "base_uri": "https://localhost:8080/",
     "height": 235
    },
    "colab_type": "code",
    "id": "iyzGsS6kC5YE",
    "outputId": "db2f7ac7-3077-488b-eb5b-f89c17de8c5d"
   },
   "outputs": [
    {
     "name": "stdout",
     "output_type": "stream",
     "text": [
      "np.shape(x2) =  (2, 2)\n",
      "np.shape(y2) =  (3, 3)\n"
     ]
    },
    {
     "ename": "ValueError",
     "evalue": "ignored",
     "output_type": "error",
     "traceback": [
      "\u001b[0;31m---------------------------------------------------------------------------\u001b[0m",
      "\u001b[0;31mValueError\u001b[0m                                Traceback (most recent call last)",
      "\u001b[0;32m<ipython-input-48-f07310ae12cd>\u001b[0m in \u001b[0;36m<module>\u001b[0;34m()\u001b[0m\n\u001b[1;32m      3\u001b[0m \u001b[0my2\u001b[0m \u001b[0;34m=\u001b[0m \u001b[0mnp\u001b[0m\u001b[0;34m.\u001b[0m\u001b[0marray\u001b[0m\u001b[0;34m(\u001b[0m\u001b[0;34m[\u001b[0m\u001b[0;34m[\u001b[0m\u001b[0;36m1\u001b[0m\u001b[0;34m,\u001b[0m\u001b[0;36m2\u001b[0m\u001b[0;34m,\u001b[0m\u001b[0;36m3\u001b[0m\u001b[0;34m]\u001b[0m\u001b[0;34m,\u001b[0m\u001b[0;34m[\u001b[0m\u001b[0;36m1\u001b[0m\u001b[0;34m,\u001b[0m\u001b[0;36m2\u001b[0m\u001b[0;34m,\u001b[0m\u001b[0;36m3\u001b[0m\u001b[0;34m]\u001b[0m\u001b[0;34m,\u001b[0m\u001b[0;34m[\u001b[0m\u001b[0;36m1\u001b[0m\u001b[0;34m,\u001b[0m\u001b[0;36m2\u001b[0m\u001b[0;34m,\u001b[0m\u001b[0;36m3\u001b[0m\u001b[0;34m]\u001b[0m\u001b[0;34m]\u001b[0m\u001b[0;34m)\u001b[0m\u001b[0;34m\u001b[0m\u001b[0m\n\u001b[1;32m      4\u001b[0m \u001b[0mprint\u001b[0m \u001b[0;34m(\u001b[0m\u001b[0;34m\"np.shape(y2) = \"\u001b[0m\u001b[0;34m,\u001b[0m \u001b[0mnp\u001b[0m\u001b[0;34m.\u001b[0m\u001b[0mshape\u001b[0m\u001b[0;34m(\u001b[0m\u001b[0my2\u001b[0m\u001b[0;34m)\u001b[0m\u001b[0;34m)\u001b[0m\u001b[0;34m\u001b[0m\u001b[0m\n\u001b[0;32m----> 5\u001b[0;31m \u001b[0mnp\u001b[0m\u001b[0;34m.\u001b[0m\u001b[0mdot\u001b[0m\u001b[0;34m(\u001b[0m\u001b[0mx2\u001b[0m\u001b[0;34m,\u001b[0m\u001b[0my2\u001b[0m\u001b[0;34m)\u001b[0m\u001b[0;34m\u001b[0m\u001b[0m\n\u001b[0m",
      "\u001b[0;31mValueError\u001b[0m: shapes (2,2) and (3,3) not aligned: 2 (dim 1) != 3 (dim 0)"
     ]
    }
   ],
   "source": [
    "x2 = np.array([[1,2], [1,2]])\n",
    "print (\"np.shape(x2) = \", np.shape(x2))\n",
    "y2 = np.array([[1,2,3],[1,2,3],[1,2,3]])\n",
    "print (\"np.shape(y2) = \", np.shape(y2))\n",
    "np.dot(x2,y2)"
   ]
  },
  {
   "cell_type": "code",
   "execution_count": 0,
   "metadata": {
    "colab": {
     "base_uri": "https://localhost:8080/",
     "height": 173
    },
    "colab_type": "code",
    "id": "mXmlllYnC5YG",
    "outputId": "ba59ceb1-9521-4958-b586-b62a25cae5a9"
   },
   "outputs": [
    {
     "name": "stdout",
     "output_type": "stream",
     "text": [
      "x = \n",
      " [[1. 2.]\n",
      " [3. 4.]]\n",
      "x_transp = \n",
      " [[1. 3.]\n",
      " [2. 4.]]\n",
      "x_inv = \n",
      " [[-2.   1. ]\n",
      " [ 1.5 -0.5]]\n"
     ]
    }
   ],
   "source": [
    "# calculate transpose and inverse\n",
    "x_transp = x.T\n",
    "print (\"x = \\n\", x)\n",
    "print (\"x_transp = \\n\",x_transp)\n",
    "x_inv = np.linalg.inv(x)\n",
    "print (\"x_inv = \\n\", x_inv)"
   ]
  },
  {
   "cell_type": "markdown",
   "metadata": {
    "colab_type": "text",
    "id": "pXuYRLmYC5YJ"
   },
   "source": [
    "And now you have enough to do linear regression!"
   ]
  },
  {
   "cell_type": "markdown",
   "metadata": {
    "colab_type": "text",
    "id": "_uZrIwp7C5YK"
   },
   "source": [
    "# MatplotLib\n",
    "\n",
    "Matplotlib is a plotting library. As usual, we import it first"
   ]
  },
  {
   "cell_type": "code",
   "execution_count": 0,
   "metadata": {
    "colab": {},
    "colab_type": "code",
    "id": "F4M69U2eC5YK"
   },
   "outputs": [],
   "source": [
    "import matplotlib.pyplot as plt"
   ]
  },
  {
   "cell_type": "code",
   "execution_count": 0,
   "metadata": {
    "colab": {},
    "colab_type": "code",
    "id": "7aW-qKl0C5YL"
   },
   "outputs": [],
   "source": [
    "%matplotlib inline"
   ]
  },
  {
   "cell_type": "markdown",
   "metadata": {
    "colab_type": "text",
    "id": "6iQx7JwSC5YN"
   },
   "source": [
    "Use the ```plot``` function to plot the 2D data."
   ]
  },
  {
   "cell_type": "code",
   "execution_count": 0,
   "metadata": {
    "colab": {
     "base_uri": "https://localhost:8080/",
     "height": 281
    },
    "colab_type": "code",
    "id": "785Ygz4VC5YO",
    "outputId": "61498fb2-ba24-46f2-aa71-f808b160b273"
   },
   "outputs": [
    {
     "data": {
      "image/png": "[encoded data removed]",
      "text/plain": [
       "<matplotlib.figure.Figure at 0x7f5a7fc5b828>"
      ]
     },
     "metadata": {
      "tags": []
     },
     "output_type": "display_data"
    }
   ],
   "source": [
    "plt.title(\"My Plot\")\n",
    "plt.plot([1,2,3,4])\n",
    "plt.ylabel('some numbers')\n",
    "plt.show()"
   ]
  },
  {
   "cell_type": "markdown",
   "metadata": {
    "colab_type": "text",
    "id": "LP3vb2pcC5YP"
   },
   "source": [
    "The format of plot function is (x-axis values, y-axis values, style)"
   ]
  },
  {
   "cell_type": "code",
   "execution_count": 0,
   "metadata": {
    "colab": {
     "base_uri": "https://localhost:8080/",
     "height": 269
    },
    "colab_type": "code",
    "id": "BQ2LV4x7C5YR",
    "outputId": "63440d7d-47ed-451c-ff80-64938104516a"
   },
   "outputs": [
    {
     "data": {
      "image/png": "[encoded data removed]",
      "text/plain": [
       "<matplotlib.figure.Figure at 0x7f5a7d377ac8>"
      ]
     },
     "metadata": {
      "tags": []
     },
     "output_type": "display_data"
    }
   ],
   "source": [
    "plt.plot([1,2,3,4], [1,4,9,16], 'ro') # Here r means red, o means circle\n",
    "plt.axis([0, 6, 0, 20]) # changes the default axis length\n",
    "plt.show()"
   ]
  },
  {
   "cell_type": "markdown",
   "metadata": {
    "colab_type": "text",
    "id": "RrFv2UD3C5YT"
   },
   "source": [
    "You can also plot multiple curves "
   ]
  },
  {
   "cell_type": "code",
   "execution_count": 0,
   "metadata": {
    "colab": {
     "base_uri": "https://localhost:8080/",
     "height": 295
    },
    "colab_type": "code",
    "id": "0fH1LvT7C5YT",
    "outputId": "1c71e64f-0ef3-462a-81db-8b3fb669004a"
   },
   "outputs": [
    {
     "data": {
      "image/png": "[encoded data removed]",
      "text/plain": [
       "<matplotlib.figure.Figure at 0x7f5a7d2d5240>"
      ]
     },
     "metadata": {
      "tags": []
     },
     "output_type": "display_data"
    }
   ],
   "source": [
    "t = np.arange(0., 5., 0.2)\n",
    "\n",
    "plt.plot(t, t, 'r--')\n",
    "plt.plot(t, t**2, 'bs')\n",
    "plt.plot(t, t**3, 'g^')\n",
    "plt.xlabel('x axis label')\n",
    "plt.ylabel('y axis label')\n",
    "plt.title('Curves')\n",
    "plt.legend(['t', 't**2', 't**3'])\n",
    "plt.show()"
   ]
  },
  {
   "cell_type": "markdown",
   "metadata": {
    "colab_type": "text",
    "id": "61Iv18yPC5YV"
   },
   "source": [
    "You can plot different curves in the same figure using the ```subplot``` function. "
   ]
  },
  {
   "cell_type": "code",
   "execution_count": 0,
   "metadata": {
    "colab": {
     "base_uri": "https://localhost:8080/",
     "height": 265
    },
    "colab_type": "code",
    "id": "0IVySDy0C5YV",
    "outputId": "122b7369-4cf9-4827-e8a1-b79dd357df08"
   },
   "outputs": [
    {
     "data": {
      "image/png": "[encoded data removed]",
      "text/plain": [
       "<matplotlib.figure.Figure at 0x7f5a7d271128>"
      ]
     },
     "metadata": {
      "tags": []
     },
     "output_type": "display_data"
    }
   ],
   "source": [
    "def f(t):\n",
    "    return np.exp(-t) * np.cos(2*np.pi*t)\n",
    "\n",
    "t1 = np.arange(0.0, 5.0, 0.1)\n",
    "t2 = np.arange(0.0, 5.0, 0.02)\n",
    "\n",
    "plt.figure(1)\n",
    "plt.subplot(211)\n",
    "plt.plot(t1, f(t1), 'bo', t2, f(t2), 'k')\n",
    "\n",
    "plt.subplot(212)\n",
    "plt.plot(t2, np.cos(2*np.pi*t2), 'r--')\n",
    "\n",
    "plt.show()"
   ]
  },
  {
   "cell_type": "markdown",
   "metadata": {
    "colab_type": "text",
    "id": "uZDYOYm1C5YY"
   },
   "source": [
    "### More reading\n",
    "\n",
    "http://matplotlib.org/users/pyplot_tutorial.html"
   ]
  },
  {
   "cell_type": "markdown",
   "metadata": {
    "colab_type": "text",
    "id": "lP0-W_OIZWam"
   },
   "source": [
    "# Practice Problems"
   ]
  },
  {
   "cell_type": "markdown",
   "metadata": {
    "colab_type": "text",
    "id": "kkCKINpKZwi0"
   },
   "source": [
    "### 1."
   ]
  },
  {
   "cell_type": "markdown",
   "metadata": {
    "colab_type": "text",
    "id": "-qjDaOnyZjXc"
   },
   "source": [
    "Return the maximum number and the index of that number from an array of numbers"
   ]
  },
  {
   "cell_type": "code",
   "execution_count": 0,
   "metadata": {
    "colab": {
     "base_uri": "https://localhost:8080/",
     "height": 35
    },
    "colab_type": "code",
    "id": "uh8F9agEa8cY",
    "outputId": "885d8c68-8a25-4198-ae69-bf008abfb029"
   },
   "outputs": [
    {
     "name": "stdout",
     "output_type": "stream",
     "text": [
      "the max value is 766 which is found at index 4\n"
     ]
    }
   ],
   "source": [
    "data = [123,-23,454,34,766,-2,0,25,-43,65]\n",
    "\n",
    "max_value = max(data)\n",
    "max_index = data.index(max_value)\n",
    "\n",
    "print(\"the max value is {0} which is found at index {1}\".format(max_value,max_index))\n"
   ]
  },
  {
   "cell_type": "markdown",
   "metadata": {
    "colab_type": "text",
    "id": "bvzJHdSyc2nF"
   },
   "source": [
    "### 2."
   ]
  },
  {
   "cell_type": "markdown",
   "metadata": {
    "colab_type": "text",
    "id": "H93Y94RegNro"
   },
   "source": [
    "Plot a sin function as well as noise corrupted data from this sin function (as seen in class)"
   ]
  },
  {
   "cell_type": "code",
   "execution_count": 0,
   "metadata": {
    "colab": {
     "base_uri": "https://localhost:8080/",
     "height": 281
    },
    "colab_type": "code",
    "id": "PldtdbE7gU_p",
    "outputId": "533e24d8-56c8-450a-f7f8-ec6f208723f1"
   },
   "outputs": [
    {
     "data": {
      "image/png": "[encoded data removed]",
      "text/plain": [
       "<matplotlib.figure.Figure at 0x7f5a7d180400>"
      ]
     },
     "metadata": {
      "tags": []
     },
     "output_type": "display_data"
    }
   ],
   "source": [
    "def sin_function(t):\n",
    "  \n",
    "  return np.sin(2*np.pi*t)\n",
    "\n",
    "t1 = np.arange(0,1,0.1)\n",
    "\n",
    "y = sin_function(t1)\n",
    "noise = np.random.normal(0,0.1,10)\n",
    "\n",
    "data = y + noise # data observed\n",
    "\n",
    "# origional data\n",
    "x_coords = np.arange(0,1,0.01)\n",
    "origional_data = sin_function(x_coords)\n",
    "\n",
    "plt.plot(t1,data,\"bo\") # plot observed data\n",
    "plt.plot(x_coords,origional_data) #plot origional data\n",
    "plt.title(\"Plot of noise corrupted data\") #give title\n",
    "plt.legend([\"obeserved data\",'true underlying function'])\n",
    "plt.show()"
   ]
  },
  {
   "cell_type": "markdown",
   "metadata": {
    "colab_type": "text",
    "id": "4p2q0jsFl7tE"
   },
   "source": [
    "### 3.\n",
    "\n"
   ]
  },
  {
   "cell_type": "markdown",
   "metadata": {
    "colab_type": "text",
    "id": "cGdYetHrmN5G"
   },
   "source": [
    "Determine if an array is monotonic.\n",
    "<br>Example:<br>\n",
    "- [1,2,3,3,3,3,3,4,5,6,7] is monotonic (increasing)\n",
    "- [7,6,5,4,3,3,3,3,3,2,1] is monotonic (decreasing)\n",
    "- [1,5,4,3,3,3,3,3,2,6,7] is not monotonic"
   ]
  },
  {
   "cell_type": "code",
   "execution_count": 0,
   "metadata": {
    "cellView": "code",
    "colab": {},
    "colab_type": "code",
    "id": "mM-1hRewnFEF"
   },
   "outputs": [],
   "source": [
    "def isMonotonic(arr):\n",
    "    behaviour = None\n",
    "    for i in range(len(arr)-1):\n",
    "        b = arr[i] - arr[i+1]\n",
    "        if b > 0:\n",
    "            b = 1\n",
    "        if b < 0:\n",
    "            b = -1\n",
    "\n",
    "#         b = cmp(arr[i], arr[i+1])   cmp cannot be used in python 3 anymore \n",
    "        \n",
    "        \n",
    "        if b != 0:\n",
    "            if behaviour == None:\n",
    "                behaviour = b\n",
    "            else:\n",
    "                if behaviour != b:\n",
    "                    return False\n",
    "    return True"
   ]
  },
  {
   "cell_type": "code",
   "execution_count": 0,
   "metadata": {
    "colab": {
     "base_uri": "https://localhost:8080/",
     "height": 69
    },
    "colab_type": "code",
    "id": "Gpm2Lw5Jo5Jf",
    "outputId": "c3de16ab-8b6f-44d9-c342-6929a2178c64"
   },
   "outputs": [
    {
     "name": "stdout",
     "output_type": "stream",
     "text": [
      "False\n",
      "True\n",
      "True\n"
     ]
    }
   ],
   "source": [
    "print (isMonotonic([1,5,4,3,3,3,3,3,2,6,7]))\n",
    "print (isMonotonic([7,6,5,4,3,3,3,3,3,2,1]))\n",
    "print (isMonotonic([1,1,1,1,1,1,1]))"
   ]
  },
  {
   "cell_type": "markdown",
   "metadata": {
    "colab_type": "text",
    "id": "Qf6KUtPWpoOR"
   },
   "source": [
    "### 4."
   ]
  },
  {
   "cell_type": "markdown",
   "metadata": {
    "colab_type": "text",
    "id": "vYeCgjhLpqWy"
   },
   "source": [
    "Hard(er) problem for plotting using matplotlib"
   ]
  },
  {
   "cell_type": "markdown",
   "metadata": {
    "colab_type": "text",
    "id": "ahLe-TqQpwJ4"
   },
   "source": [
    "Plot the decision boundary for a circle of radius 2"
   ]
  },
  {
   "cell_type": "code",
   "execution_count": 0,
   "metadata": {
    "colab": {
     "base_uri": "https://localhost:8080/",
     "height": 295
    },
    "colab_type": "code",
    "id": "9XD8ZeYkppmR",
    "outputId": "3796b2f7-1280-4b60-969b-fece78e51ab1"
   },
   "outputs": [
    {
     "data": {
      "image/png": "[encoded data removed]",
      "text/plain": [
       "<matplotlib.figure.Figure at 0x7f5a7d1daef0>"
      ]
     },
     "metadata": {
      "tags": []
     },
     "output_type": "display_data"
    }
   ],
   "source": [
    "import matplotlib.colors as colors\n",
    "\n",
    "size_of_map = np.arange(-3,3,0.01)\n",
    "xx, yy = np.meshgrid(size_of_map,size_of_map) # gives a rectangular grid out of \n",
    "                                              # input values\n",
    "\n",
    "# our data is generated randomly from the uniform random distribution\n",
    "x0 = np.random.uniform(-3,3,100)\n",
    "x1 = np.random.uniform(-3,3,100)\n",
    "\n",
    "# the underlying classification function, note that it has small gaussian noise\n",
    "def true_function(x0,x1):\n",
    "  \n",
    "  return x0**2 + x1**2 + np.random.normal(0,1) <= 4 \n",
    "\n",
    "y = true_function(x0,x1) #the true predictions for our data\n",
    "\n",
    "\n",
    "# our classifier, just the circle without the gaussian noise\n",
    "def classifier(x0,x1):\n",
    "  \n",
    "  return x0**2 + x1**2 <= 4\n",
    "  \n",
    "z = classifier(xx,yy) # our classifier applied to the entire grid \n",
    "\n",
    "\n",
    "cm_bright = colors.ListedColormap(['#FF0000', '#0000FF']) #just colors\n",
    "plt.contourf(xx,yy,z,alpha=0.4,cmap=cm_bright) #plot the contours using our classifier results\n",
    "plt.scatter(x0,x1,c=y,s=20,cmap = cm_bright) #scatter plot of true data\n",
    "\n",
    "# labelling the plot\n",
    "plt.xlabel(\"x0\")\n",
    "plt.ylabel(\"x1\")\n",
    "plt.title(\"Classifier boundries vs true data results\")\n",
    "plt.show()"
   ]
  }
 ],
 "metadata": {
  "colab": {
   "collapsed_sections": [
    "D1NensvkC5VT",
    "6Xk9521DC5XX",
    "uZDYOYm1C5YY"
   ],
   "name": "Tutorial 1 - COMP 551 Applied Machine Learning.ipynb",
   "provenance": [],
   "version": "0.3.2"
  },
  "kernelspec": {
   "display_name": "Python 3",
   "language": "python",
   "name": "python3"
  },
  "language_info": {
   "codemirror_mode": {
    "name": "ipython",
    "version": 3
   },
   "file_extension": ".py",
   "mimetype": "text/x-python",
   "name": "python",
   "nbconvert_exporter": "python",
   "pygments_lexer": "ipython3",
   "version": "3.7.3"
  }
 },
 "nbformat": 4,
 "nbformat_minor": 1
}
